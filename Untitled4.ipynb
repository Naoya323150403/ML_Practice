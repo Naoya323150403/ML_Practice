{
 "cells": [
  {
   "cell_type": "code",
   "execution_count": 1,
   "metadata": {},
   "outputs": [
    {
     "name": "stdout",
     "output_type": "stream",
     "text": [
      "Collecting package metadata (current_repodata.json): done\n",
      "Solving environment: done\n",
      "\n",
      "# All requested packages already installed.\n",
      "\n",
      "\n",
      "Note: you may need to restart the kernel to use updated packages.\n"
     ]
    }
   ],
   "source": [
    "conda install -c conda-forge lightgbm"
   ]
  },
  {
   "cell_type": "code",
   "execution_count": 1,
   "metadata": {},
   "outputs": [],
   "source": [
    "import numpy as np\n",
    "import pandas as pd\n",
    "import matplotlib.pyplot as plt\n",
    "from sklearn.model_selection import train_test_split\n",
    "from sklearn.metrics import mean_squared_error\n",
    "from sklearn.ensemble import AdaBoostRegressor\n",
    "import lightgbm as lgb"
   ]
  },
  {
   "cell_type": "code",
   "execution_count": 2,
   "metadata": {},
   "outputs": [],
   "source": [
    "train_df = pd.read_csv('train.csv',index_col='id')\n",
    "test_df = pd.read_csv('test.csv',index_col='id')\n",
    "sample_submission_df = pd.read_csv('sample_submission.csv',index_col='id')"
   ]
  },
  {
   "cell_type": "code",
   "execution_count": 3,
   "metadata": {},
   "outputs": [],
   "source": [
    "target = train_df.pop('target')\n",
    "X_train, X_test, y_train, y_test = train_test_split(train_df, target, train_size=0.80)"
   ]
  },
  {
   "cell_type": "code",
   "execution_count": 4,
   "metadata": {},
   "outputs": [],
   "source": [
    "lgb_train = lgb.Dataset(X_train, y_train)\n",
    "lgb_eval = lgb.Dataset(X_test, y_test)"
   ]
  },
  {
   "cell_type": "code",
   "execution_count": 5,
   "metadata": {},
   "outputs": [],
   "source": [
    "params = {        \n",
    "        'objective': 'regression',\n",
    "        'boosting_type': 'gbdt',\n",
    "        'metric': 'rmse',\n",
    "        'n_jobs': -1,\n",
    "        'learning_rate': 0.01,\n",
    "        'num_leaves': 2 ** 8,\n",
    "        'max_depth': 8,\n",
    "        'tree_learner': 'serial',\n",
    "        'colsample_bytree': 0.8,\n",
    "        'subsample_freq': 1,\n",
    "        'subsample': 0.8,\n",
    "        'max_bin': 255,\n",
    "        'verbose': -1,}"
   ]
  },
  {
   "cell_type": "code",
   "execution_count": 6,
   "metadata": {},
   "outputs": [
    {
     "name": "stdout",
     "output_type": "stream",
     "text": [
      "Training until validation scores don't improve for 100 rounds\n",
      "[50]\tvalid_0's rmse: 0.725181\n",
      "[100]\tvalid_0's rmse: 0.71936\n",
      "[150]\tvalid_0's rmse: 0.715689\n",
      "[200]\tvalid_0's rmse: 0.713036\n",
      "[250]\tvalid_0's rmse: 0.71101\n",
      "[300]\tvalid_0's rmse: 0.70942\n",
      "[350]\tvalid_0's rmse: 0.708172\n",
      "[400]\tvalid_0's rmse: 0.707193\n",
      "[450]\tvalid_0's rmse: 0.706339\n",
      "[500]\tvalid_0's rmse: 0.705587\n",
      "[550]\tvalid_0's rmse: 0.704983\n",
      "[600]\tvalid_0's rmse: 0.704522\n",
      "[650]\tvalid_0's rmse: 0.704135\n",
      "[700]\tvalid_0's rmse: 0.703751\n",
      "[750]\tvalid_0's rmse: 0.703391\n",
      "[800]\tvalid_0's rmse: 0.703093\n",
      "[850]\tvalid_0's rmse: 0.702848\n",
      "[900]\tvalid_0's rmse: 0.702602\n",
      "[950]\tvalid_0's rmse: 0.702403\n",
      "[1000]\tvalid_0's rmse: 0.7022\n",
      "[1050]\tvalid_0's rmse: 0.702003\n",
      "[1100]\tvalid_0's rmse: 0.701837\n",
      "[1150]\tvalid_0's rmse: 0.70166\n",
      "[1200]\tvalid_0's rmse: 0.701517\n",
      "[1250]\tvalid_0's rmse: 0.701387\n",
      "[1300]\tvalid_0's rmse: 0.701302\n",
      "[1350]\tvalid_0's rmse: 0.701177\n",
      "[1400]\tvalid_0's rmse: 0.701089\n",
      "[1450]\tvalid_0's rmse: 0.701005\n",
      "[1500]\tvalid_0's rmse: 0.700915\n",
      "[1550]\tvalid_0's rmse: 0.700838\n",
      "[1600]\tvalid_0's rmse: 0.700768\n",
      "[1650]\tvalid_0's rmse: 0.700684\n",
      "[1700]\tvalid_0's rmse: 0.700622\n",
      "[1750]\tvalid_0's rmse: 0.700569\n",
      "[1800]\tvalid_0's rmse: 0.700519\n",
      "[1850]\tvalid_0's rmse: 0.700483\n",
      "[1900]\tvalid_0's rmse: 0.700437\n",
      "[1950]\tvalid_0's rmse: 0.700411\n",
      "[2000]\tvalid_0's rmse: 0.700352\n",
      "[2050]\tvalid_0's rmse: 0.700335\n",
      "[2100]\tvalid_0's rmse: 0.700297\n",
      "[2150]\tvalid_0's rmse: 0.700295\n",
      "[2200]\tvalid_0's rmse: 0.700281\n",
      "[2250]\tvalid_0's rmse: 0.700277\n",
      "[2300]\tvalid_0's rmse: 0.700265\n",
      "[2350]\tvalid_0's rmse: 0.700256\n",
      "[2400]\tvalid_0's rmse: 0.700249\n",
      "[2450]\tvalid_0's rmse: 0.700245\n",
      "[2500]\tvalid_0's rmse: 0.700222\n",
      "[2550]\tvalid_0's rmse: 0.700221\n",
      "[2600]\tvalid_0's rmse: 0.700227\n",
      "Early stopping, best iteration is:\n",
      "[2508]\tvalid_0's rmse: 0.700211\n"
     ]
    }
   ],
   "source": [
    "gbm = lgb.train(params,\n",
    "                lgb_train,\n",
    "                valid_sets=lgb_eval,\n",
    "                num_boost_round=10000,\n",
    "                early_stopping_rounds=100,\n",
    "                verbose_eval=50)"
   ]
  },
  {
   "cell_type": "code",
   "execution_count": 7,
   "metadata": {},
   "outputs": [],
   "source": [
    "lgb_test = lgb.Dataset(test_df)"
   ]
  },
  {
   "cell_type": "code",
   "execution_count": 8,
   "metadata": {},
   "outputs": [],
   "source": [
    "predicted = gbm.predict(test_df)"
   ]
  },
  {
   "cell_type": "code",
   "execution_count": 9,
   "metadata": {},
   "outputs": [],
   "source": [
    "sample_submission_df['target'] = predicted"
   ]
  },
  {
   "cell_type": "code",
   "execution_count": 10,
   "metadata": {},
   "outputs": [
    {
     "data": {
      "text/html": [
       "<div>\n",
       "<style scoped>\n",
       "    .dataframe tbody tr th:only-of-type {\n",
       "        vertical-align: middle;\n",
       "    }\n",
       "\n",
       "    .dataframe tbody tr th {\n",
       "        vertical-align: top;\n",
       "    }\n",
       "\n",
       "    .dataframe thead th {\n",
       "        text-align: right;\n",
       "    }\n",
       "</style>\n",
       "<table border=\"1\" class=\"dataframe\">\n",
       "  <thead>\n",
       "    <tr style=\"text-align: right;\">\n",
       "      <th></th>\n",
       "      <th>target</th>\n",
       "    </tr>\n",
       "    <tr>\n",
       "      <th>id</th>\n",
       "      <th></th>\n",
       "    </tr>\n",
       "  </thead>\n",
       "  <tbody>\n",
       "    <tr>\n",
       "      <th>0</th>\n",
       "      <td>7.974142</td>\n",
       "    </tr>\n",
       "    <tr>\n",
       "      <th>2</th>\n",
       "      <td>7.857708</td>\n",
       "    </tr>\n",
       "  </tbody>\n",
       "</table>\n",
       "</div>"
      ],
      "text/plain": [
       "      target\n",
       "id          \n",
       "0   7.974142\n",
       "2   7.857708"
      ]
     },
     "execution_count": 10,
     "metadata": {},
     "output_type": "execute_result"
    }
   ],
   "source": [
    "sample_submission_df.head(2)"
   ]
  },
  {
   "cell_type": "code",
   "execution_count": 11,
   "metadata": {},
   "outputs": [],
   "source": [
    "sample_submission_df.to_csv('submit10.csv')"
   ]
  },
  {
   "cell_type": "code",
   "execution_count": null,
   "metadata": {},
   "outputs": [],
   "source": []
  }
 ],
 "metadata": {
  "kernelspec": {
   "display_name": "Python 3",
   "language": "python",
   "name": "python3"
  },
  "language_info": {
   "codemirror_mode": {
    "name": "ipython",
    "version": 3
   },
   "file_extension": ".py",
   "mimetype": "text/x-python",
   "name": "python",
   "nbconvert_exporter": "python",
   "pygments_lexer": "ipython3",
   "version": "3.8.5"
  }
 },
 "nbformat": 4,
 "nbformat_minor": 4
}
